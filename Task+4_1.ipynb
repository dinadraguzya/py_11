{
 "cells": [
  {
   "cell_type": "code",
   "execution_count": 208,
   "metadata": {},
   "outputs": [],
   "source": [
    "import pandas as pd\n",
    "\n",
    "\n",
    "file_path = '/Users/dinadraguzya/PycharmProjects/netology/py_11/names/'\n",
    "\n",
    "\n",
    "def count_top3(years):\n",
    "    names = list()\n",
    "    for year in years:\n",
    "        names.append(pd.read_csv(\n",
    "            file_path + f'yob{year}.txt', \n",
    "            names=['Name', 'Gender', 'Count']\n",
    "        ))\n",
    "    all_names = pd.concat(names).groupby('Name', as_index=False).sum()\n",
    "    return all_names.sort_values(by='Count', ascending=False).head(3)['Name'].tolist()\n",
    "\n",
    "\n",
    "def count_dynamics(years):\n",
    "    dynamics = dict()\n",
    "    f_names = list()\n",
    "    m_names = list()\n",
    "    for year in years:\n",
    "        names = pd.read_csv(\n",
    "            file_path + f'yob{year}.txt', \n",
    "            names=['Name', 'Gender', 'Count']\n",
    "        )\n",
    "        f_names.append(names[names.Gender=='F'].Count.sum())\n",
    "        m_names.append(names[names.Gender=='M'].Count.sum())\n",
    "    dynamics['F'] = f_names\n",
    "    dynamics['M'] = m_names\n",
    "    return dynamics"
   ]
  },
  {
   "cell_type": "code",
   "execution_count": 191,
   "metadata": {},
   "outputs": [
    {
     "data": {
      "text/plain": [
       "True"
      ]
     },
     "execution_count": 191,
     "metadata": {},
     "output_type": "execute_result"
    }
   ],
   "source": [
    " count_top3([1880]) == ['John', 'William', 'Mary']"
   ]
  },
  {
   "cell_type": "code",
   "execution_count": 192,
   "metadata": {},
   "outputs": [
    {
     "data": {
      "text/plain": [
       "True"
      ]
     },
     "execution_count": 192,
     "metadata": {},
     "output_type": "execute_result"
    }
   ],
   "source": [
    "count_top3([1900, 1950, 2000]) == ['James', 'John', 'Robert']"
   ]
  },
  {
   "cell_type": "code",
   "execution_count": 210,
   "metadata": {},
   "outputs": [
    {
     "data": {
      "text/plain": [
       "True"
      ]
     },
     "execution_count": 210,
     "metadata": {},
     "output_type": "execute_result"
    }
   ],
   "source": [
    "count_dynamics([1900, 1950, 2000]) == {\n",
    "    'F': [299810, 1713259, 1814922],\n",
    "    'M': [150486, 1790871, 1962744]\n",
    "}"
   ]
  }
 ],
 "metadata": {
  "kernelspec": {
   "display_name": "Python 3",
   "language": "python",
   "name": "python3"
  },
  "language_info": {
   "codemirror_mode": {
    "name": "ipython",
    "version": 3
   },
   "file_extension": ".py",
   "mimetype": "text/x-python",
   "name": "python",
   "nbconvert_exporter": "python",
   "pygments_lexer": "ipython3",
   "version": "3.6.3"
  }
 },
 "nbformat": 4,
 "nbformat_minor": 2
}
